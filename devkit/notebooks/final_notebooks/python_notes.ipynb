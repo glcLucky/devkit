{
 "cells": [
  {
   "cell_type": "code",
   "execution_count": 1,
   "metadata": {
    "ExecuteTime": {
     "end_time": "2020-10-25T10:50:21.786205Z",
     "start_time": "2020-10-25T10:50:21.157982Z"
    }
   },
   "outputs": [],
   "source": [
    "import numpy as np\n",
    "import pandas as pd"
   ]
  },
  {
   "cell_type": "markdown",
   "metadata": {},
   "source": [
    "# numpy索引相关"
   ]
  },
  {
   "cell_type": "markdown",
   "metadata": {},
   "source": [
    "## 多行混合索引(当每行取得元素个数相同时)\n",
    "\n",
    "比如你有一个二维数组a，你有一个索引序列数组a_idx,len(a)==len(a_idx), a_idx.shape[1] = k,表示每行取k个元素，a_idx的每一行的值表示要取的对应的列索引，每行列索引都不一样；这样的索引我称为多行混合索引，无法直接使用a[a_idx]"
   ]
  },
  {
   "cell_type": "code",
   "execution_count": 2,
   "metadata": {
    "ExecuteTime": {
     "end_time": "2020-10-25T10:50:39.594809Z",
     "start_time": "2020-10-25T10:50:39.590541Z"
    }
   },
   "outputs": [],
   "source": [
    "a = np.array([[1.2, 1.4, 1.12, 2.3], [2.1, 2.12, 1.56, 1.74], [3.23, 2.12, 4.23, 2.34]])"
   ]
  },
  {
   "cell_type": "code",
   "execution_count": 3,
   "metadata": {
    "ExecuteTime": {
     "end_time": "2020-10-25T10:50:40.373714Z",
     "start_time": "2020-10-25T10:50:40.362579Z"
    }
   },
   "outputs": [
    {
     "data": {
      "text/plain": [
       "array([[1.2 , 1.4 , 1.12, 2.3 ],\n",
       "       [2.1 , 2.12, 1.56, 1.74],\n",
       "       [3.23, 2.12, 4.23, 2.34]])"
      ]
     },
     "execution_count": 3,
     "metadata": {},
     "output_type": "execute_result"
    }
   ],
   "source": [
    "a"
   ]
  },
  {
   "cell_type": "code",
   "execution_count": 90,
   "metadata": {
    "ExecuteTime": {
     "end_time": "2020-10-25T09:08:47.538259Z",
     "start_time": "2020-10-25T09:08:47.530029Z"
    }
   },
   "outputs": [],
   "source": [
    "k = 3  # 每行取得元素个数必须相同，否则无法直接构造成数组\n",
    "a_idx = np.array([[0,3,2], [1,2,3], [0,1,2]])  # 想取数组a第一行的0,3,2元素，第二行的1，2，3元素，第三行的0,1,2元素"
   ]
  },
  {
   "cell_type": "code",
   "execution_count": 92,
   "metadata": {
    "ExecuteTime": {
     "end_time": "2020-10-25T09:09:25.549002Z",
     "start_time": "2020-10-25T09:09:25.541591Z"
    }
   },
   "outputs": [
    {
     "data": {
      "text/plain": [
       "array([[1.2 , 2.3 , 1.12],\n",
       "       [2.12, 1.56, 1.74],\n",
       "       [3.23, 2.12, 4.23]])"
      ]
     },
     "execution_count": 92,
     "metadata": {},
     "output_type": "execute_result"
    }
   ],
   "source": [
    "a[\n",
    "    np.repeat(np.arange(len(a_idx)), k),\n",
    "    a_idx.ravel()].reshape(len(a_idx), k)"
   ]
  },
  {
   "cell_type": "code",
   "execution_count": null,
   "metadata": {},
   "outputs": [],
   "source": []
  },
  {
   "cell_type": "markdown",
   "metadata": {},
   "source": [
    "# Parallel Processing in Python"
   ]
  },
  {
   "cell_type": "code",
   "execution_count": 8,
   "metadata": {
    "ExecuteTime": {
     "end_time": "2020-10-25T10:51:12.953315Z",
     "start_time": "2020-10-25T10:51:12.949253Z"
    }
   },
   "outputs": [],
   "source": [
    "import multiprocessing as mp\n"
   ]
  },
  {
   "cell_type": "code",
   "execution_count": 4,
   "metadata": {
    "ExecuteTime": {
     "end_time": "2020-10-25T10:51:00.206894Z",
     "start_time": "2020-10-25T10:50:58.792256Z"
    }
   },
   "outputs": [],
   "source": [
    "np.random.RandomState(100)\n",
    "arr = np.random.randint(0, 10, size=[2000000, 5])\n",
    "data = arr.tolist()"
   ]
  },
  {
   "cell_type": "code",
   "execution_count": 5,
   "metadata": {
    "ExecuteTime": {
     "end_time": "2020-10-25T10:51:00.838387Z",
     "start_time": "2020-10-25T10:51:00.832346Z"
    }
   },
   "outputs": [],
   "source": [
    "def howmany_within_range(row, minimum, maximum):\n",
    "    \"\"\"Returns how many numbers lie within `maximum` and `minimum` in a given `row`\"\"\"\n",
    "    count = 0\n",
    "    for n in row:\n",
    "        if minimum <= n <= maximum:\n",
    "            count = count + 1\n",
    "    return count"
   ]
  },
  {
   "cell_type": "code",
   "execution_count": 6,
   "metadata": {
    "ExecuteTime": {
     "end_time": "2020-10-25T10:51:02.953269Z",
     "start_time": "2020-10-25T10:51:01.447241Z"
    }
   },
   "outputs": [],
   "source": [
    "results = []\n",
    "for row in data:\n",
    "    results.append(howmany_within_range(row, minimum=4, maximum=8))\n"
   ]
  },
  {
   "cell_type": "code",
   "execution_count": 11,
   "metadata": {
    "ExecuteTime": {
     "end_time": "2020-10-25T10:51:30.594560Z",
     "start_time": "2020-10-25T10:51:30.587653Z"
    }
   },
   "outputs": [
    {
     "data": {
      "text/plain": [
       "4"
      ]
     },
     "execution_count": 11,
     "metadata": {},
     "output_type": "execute_result"
    }
   ],
   "source": [
    "mp.cpu_count() // 2"
   ]
  },
  {
   "cell_type": "code",
   "execution_count": 12,
   "metadata": {
    "ExecuteTime": {
     "end_time": "2020-10-25T10:54:12.756715Z",
     "start_time": "2020-10-25T10:51:34.338732Z"
    }
   },
   "outputs": [
    {
     "name": "stderr",
     "output_type": "stream",
     "text": [
      "Process ForkPoolWorker-2:\n",
      "Process ForkPoolWorker-4:\n",
      "Process ForkPoolWorker-1:\n",
      "Process ForkPoolWorker-3:\n",
      "Traceback (most recent call last):\n"
     ]
    }
   ],
   "source": [
    "\n",
    "# Step 1: Init multiprocessing.Pool()\n",
    "pool = mp.Pool(mp.cpu_count()// 2)\n",
    "\n",
    "# Step 2: `pool.apply` the `howmany_within_range()`\n",
    "results = [pool.apply(howmany_within_range, args=(row, 4, 8)) for row in data]\n",
    "\n",
    "# Step 3: Don't forget to close\n",
    "pool.close()   "
   ]
  },
  {
   "cell_type": "markdown",
   "metadata": {},
   "source": [
    "# 计算样本间距离并只选出最小的k个距离点"
   ]
  },
  {
   "cell_type": "markdown",
   "metadata": {},
   "source": [
    "- distance.pdist：计算n维空间X中样本间的两两(成对)距离。 参数：X, metric\n",
    "- distance.cdist：计算X_A和X_B之间的两两(成对)距离。 参数：XA, XB, metric\n",
    "\n",
    "- np.partition: 对所给数组按找给定位置进行分割，返回分割后的数组。参数： 给定数组a，及位置索引kth\n",
    "\n",
    "比如指定kth=10，则表示先确定所给数组第10小的数字为n，则要求返回的数组满足这些条件：n位于第10个位置，前10个元素的值必须小于n，n之后的元素必须大于n，两部分内部的顺序不作要求;kth可以为负数，如-3，则表示按照数组a中第3的元素对a进行分割。\n",
    "\n",
    "其应用场景为：比如我们仅想从一个很大的数组里找到最大的10个值，如果先对元素进行排序，再取前10个元素，这样的代价会比较大；考虑到只需前10个，则可以用np.partition"
   ]
  },
  {
   "cell_type": "code",
   "execution_count": 2,
   "metadata": {
    "ExecuteTime": {
     "end_time": "2020-10-25T08:13:53.412808Z",
     "start_time": "2020-10-25T08:13:53.226472Z"
    }
   },
   "outputs": [],
   "source": [
    "from scipy.spatial import distance"
   ]
  },
  {
   "cell_type": "code",
   "execution_count": 3,
   "metadata": {
    "ExecuteTime": {
     "end_time": "2020-10-25T08:13:57.860412Z",
     "start_time": "2020-10-25T08:13:57.850373Z"
    }
   },
   "outputs": [],
   "source": [
    "nsamples = 10005\n",
    "nfeatures = 20\n",
    "X = np.random.randn(nsamples, nfeatures)"
   ]
  },
  {
   "cell_type": "code",
   "execution_count": 4,
   "metadata": {
    "ExecuteTime": {
     "end_time": "2020-10-25T08:13:58.291638Z",
     "start_time": "2020-10-25T08:13:58.289051Z"
    }
   },
   "outputs": [],
   "source": [
    "njobs = 20"
   ]
  },
  {
   "cell_type": "code",
   "execution_count": 5,
   "metadata": {
    "ExecuteTime": {
     "end_time": "2020-10-25T08:14:00.285630Z",
     "start_time": "2020-10-25T08:14:00.281521Z"
    }
   },
   "outputs": [],
   "source": [
    "step = int(np.ceil(nsamples / njobs))"
   ]
  },
  {
   "cell_type": "code",
   "execution_count": 6,
   "metadata": {
    "ExecuteTime": {
     "end_time": "2020-10-25T08:14:00.615266Z",
     "start_time": "2020-10-25T08:14:00.604335Z"
    }
   },
   "outputs": [
    {
     "data": {
      "text/plain": [
       "501"
      ]
     },
     "execution_count": 6,
     "metadata": {},
     "output_type": "execute_result"
    }
   ],
   "source": [
    "step"
   ]
  },
  {
   "cell_type": "code",
   "execution_count": 7,
   "metadata": {
    "ExecuteTime": {
     "end_time": "2020-10-25T08:14:02.308238Z",
     "start_time": "2020-10-25T08:14:02.302791Z"
    }
   },
   "outputs": [
    {
     "data": {
      "text/plain": [
       "(10005, 20)"
      ]
     },
     "execution_count": 7,
     "metadata": {},
     "output_type": "execute_result"
    }
   ],
   "source": [
    "X.shape"
   ]
  },
  {
   "cell_type": "code",
   "execution_count": 18,
   "metadata": {
    "ExecuteTime": {
     "end_time": "2020-10-25T08:15:53.567354Z",
     "start_time": "2020-10-25T08:15:53.564338Z"
    }
   },
   "outputs": [],
   "source": [
    "i = 0\n",
    "st = i*step\n",
    "end = (i+1)*step"
   ]
  },
  {
   "cell_type": "code",
   "execution_count": 21,
   "metadata": {
    "ExecuteTime": {
     "end_time": "2020-10-25T08:16:09.569389Z",
     "start_time": "2020-10-25T08:16:09.453064Z"
    }
   },
   "outputs": [],
   "source": [
    "w = distance.cdist(XA=X[st:end], XB=X, metric=\"euclidean\")"
   ]
  },
  {
   "cell_type": "code",
   "execution_count": 22,
   "metadata": {
    "ExecuteTime": {
     "end_time": "2020-10-25T08:16:09.770984Z",
     "start_time": "2020-10-25T08:16:09.766456Z"
    }
   },
   "outputs": [
    {
     "data": {
      "text/plain": [
       "(501, 10005)"
      ]
     },
     "execution_count": 22,
     "metadata": {},
     "output_type": "execute_result"
    }
   ],
   "source": [
    "w.shape"
   ]
  },
  {
   "cell_type": "code",
   "execution_count": 23,
   "metadata": {
    "ExecuteTime": {
     "end_time": "2020-10-25T08:16:10.309572Z",
     "start_time": "2020-10-25T08:16:10.304292Z"
    }
   },
   "outputs": [
    {
     "data": {
      "text/plain": [
       "array([[0.        , 6.50226702, 5.68503918, ..., 5.73421475, 6.97135613,\n",
       "        7.77232142],\n",
       "       [6.50226702, 0.        , 6.13201294, ..., 4.75273047, 5.3941752 ,\n",
       "        6.91599551],\n",
       "       [5.68503918, 6.13201294, 0.        , ..., 6.5574655 , 7.70145862,\n",
       "        7.57157916],\n",
       "       ...,\n",
       "       [7.97397333, 5.47986608, 7.40401986, ..., 6.44619024, 5.85732901,\n",
       "        7.56291792],\n",
       "       [5.81804948, 5.90674852, 7.48309627, ..., 7.08748461, 7.17639955,\n",
       "        8.90564595],\n",
       "       [7.46202109, 6.09174844, 5.36317628, ..., 7.34503315, 7.60248785,\n",
       "        8.04963534]])"
      ]
     },
     "execution_count": 23,
     "metadata": {},
     "output_type": "execute_result"
    }
   ],
   "source": [
    "w"
   ]
  },
  {
   "cell_type": "code",
   "execution_count": 94,
   "metadata": {
    "ExecuteTime": {
     "end_time": "2020-10-25T09:11:45.067183Z",
     "start_time": "2020-10-25T09:11:45.064117Z"
    }
   },
   "outputs": [],
   "source": [
    "k = 10\n",
    "kths = tuple(np.arange(1, k+1))"
   ]
  },
  {
   "cell_type": "code",
   "execution_count": 95,
   "metadata": {
    "ExecuteTime": {
     "end_time": "2020-10-25T09:11:45.378644Z",
     "start_time": "2020-10-25T09:11:45.375775Z"
    }
   },
   "outputs": [],
   "source": [
    "z = np.zeros((nsamples, k))"
   ]
  },
  {
   "cell_type": "code",
   "execution_count": 96,
   "metadata": {
    "ExecuteTime": {
     "end_time": "2020-10-25T09:11:45.628557Z",
     "start_time": "2020-10-25T09:11:45.625372Z"
    }
   },
   "outputs": [],
   "source": [
    "pairs = np.zeros_like(z)"
   ]
  },
  {
   "cell_type": "code",
   "execution_count": 97,
   "metadata": {
    "ExecuteTime": {
     "end_time": "2020-10-25T09:11:45.863823Z",
     "start_time": "2020-10-25T09:11:45.859919Z"
    }
   },
   "outputs": [
    {
     "data": {
      "text/plain": [
       "(10005, 10)"
      ]
     },
     "execution_count": 97,
     "metadata": {},
     "output_type": "execute_result"
    }
   ],
   "source": [
    "pairs.shape"
   ]
  },
  {
   "cell_type": "code",
   "execution_count": 98,
   "metadata": {
    "ExecuteTime": {
     "end_time": "2020-10-25T09:11:46.211214Z",
     "start_time": "2020-10-25T09:11:46.207634Z"
    }
   },
   "outputs": [
    {
     "data": {
      "text/plain": [
       "(10005, 10)"
      ]
     },
     "execution_count": 98,
     "metadata": {},
     "output_type": "execute_result"
    }
   ],
   "source": [
    "z.shape"
   ]
  },
  {
   "cell_type": "code",
   "execution_count": 99,
   "metadata": {
    "ExecuteTime": {
     "end_time": "2020-10-25T09:11:46.778531Z",
     "start_time": "2020-10-25T09:11:46.773891Z"
    }
   },
   "outputs": [
    {
     "data": {
      "text/plain": [
       "(501, 10005)"
      ]
     },
     "execution_count": 99,
     "metadata": {},
     "output_type": "execute_result"
    }
   ],
   "source": [
    "w.shape"
   ]
  },
  {
   "cell_type": "code",
   "execution_count": 100,
   "metadata": {
    "ExecuteTime": {
     "end_time": "2020-10-25T09:11:47.175904Z",
     "start_time": "2020-10-25T09:11:47.049033Z"
    }
   },
   "outputs": [],
   "source": [
    "w_parted_ix = np.argpartition(w, kths, axis=1)"
   ]
  },
  {
   "cell_type": "code",
   "execution_count": 101,
   "metadata": {
    "ExecuteTime": {
     "end_time": "2020-10-25T09:11:47.316907Z",
     "start_time": "2020-10-25T09:11:47.312090Z"
    }
   },
   "outputs": [
    {
     "data": {
      "text/plain": [
       "array([[    0,  6838,  2352, ..., 10002, 10003, 10004],\n",
       "       [    1,  4545,  2952, ..., 10002, 10003, 10004],\n",
       "       [    2,   621,  3207, ..., 10002, 10003, 10004],\n",
       "       ...,\n",
       "       [  498,  8628,  5028, ..., 10002, 10003, 10004],\n",
       "       [  499,  9416,  8833, ..., 10002, 10003, 10004],\n",
       "       [  500,  3399,  1255, ..., 10002, 10003, 10004]])"
      ]
     },
     "execution_count": 101,
     "metadata": {},
     "output_type": "execute_result"
    }
   ],
   "source": [
    "w_parted_ix"
   ]
  },
  {
   "cell_type": "code",
   "execution_count": 102,
   "metadata": {
    "ExecuteTime": {
     "end_time": "2020-10-25T09:11:47.781745Z",
     "start_time": "2020-10-25T09:11:47.775878Z"
    }
   },
   "outputs": [
    {
     "data": {
      "text/plain": [
       "(501, 10)"
      ]
     },
     "execution_count": 102,
     "metadata": {},
     "output_type": "execute_result"
    }
   ],
   "source": [
    "w_parted_ix[:, 1:k+1].shape"
   ]
  },
  {
   "cell_type": "code",
   "execution_count": 103,
   "metadata": {
    "ExecuteTime": {
     "end_time": "2020-10-25T09:11:47.987977Z",
     "start_time": "2020-10-25T09:11:47.984660Z"
    }
   },
   "outputs": [],
   "source": [
    "z[st:end, :] = w_parted_ix[:, 1:k+1]"
   ]
  },
  {
   "cell_type": "code",
   "execution_count": 104,
   "metadata": {
    "ExecuteTime": {
     "end_time": "2020-10-25T09:11:48.313005Z",
     "start_time": "2020-10-25T09:11:48.308578Z"
    }
   },
   "outputs": [
    {
     "data": {
      "text/plain": [
       "array([6838., 2352., 6091., 6865., 1683., 4217., 6686., 2412., 8069.,\n",
       "       1844.])"
      ]
     },
     "execution_count": 104,
     "metadata": {},
     "output_type": "execute_result"
    }
   ],
   "source": [
    "z[0]"
   ]
  },
  {
   "cell_type": "code",
   "execution_count": 105,
   "metadata": {
    "ExecuteTime": {
     "end_time": "2020-10-25T09:11:50.032350Z",
     "start_time": "2020-10-25T09:11:50.023059Z"
    }
   },
   "outputs": [],
   "source": [
    "ixs_rows = np.repeat(np.arange(len(w)), k)\n",
    "ixs_cols = tuple(w_parted_ix[:, 1:k+1].ravel())"
   ]
  },
  {
   "cell_type": "code",
   "execution_count": 106,
   "metadata": {
    "ExecuteTime": {
     "end_time": "2020-10-25T09:11:50.364141Z",
     "start_time": "2020-10-25T09:11:50.359198Z"
    }
   },
   "outputs": [],
   "source": [
    "pairs[st:end, :] = w[ixs_rows, ixs_cols].reshape(len(w), k)"
   ]
  }
 ],
 "metadata": {
  "kernelspec": {
   "display_name": "cae_pytorch",
   "language": "python",
   "name": "cae_pytorch"
  },
  "language_info": {
   "codemirror_mode": {
    "name": "ipython",
    "version": 3
   },
   "file_extension": ".py",
   "mimetype": "text/x-python",
   "name": "python",
   "nbconvert_exporter": "python",
   "pygments_lexer": "ipython3",
   "version": "3.6.2"
  },
  "toc": {
   "base_numbering": 1,
   "nav_menu": {},
   "number_sections": true,
   "sideBar": true,
   "skip_h1_title": false,
   "title_cell": "Table of Contents",
   "title_sidebar": "Contents",
   "toc_cell": false,
   "toc_position": {},
   "toc_section_display": true,
   "toc_window_display": false
  }
 },
 "nbformat": 4,
 "nbformat_minor": 4
}
